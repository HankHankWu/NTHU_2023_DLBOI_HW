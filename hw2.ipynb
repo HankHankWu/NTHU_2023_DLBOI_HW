{
  "cells": [
    {
      "cell_type": "markdown",
      "metadata": {
        "id": "Li0bVCTuxc6n"
      },
      "source": [
        "<div align=\"center\">\n",
        "\n",
        "# National Tsing Hua University\n",
        "\n",
        "### Fall 2023\n",
        "\n",
        "#### 11210IPT 553000\n",
        "\n",
        "#### Deep Learning in Biomedical Optical Imaging\n",
        "\n",
        "## Homework 2\n",
        "\n",
        "</div>\n"
      ]
    },
    {
      "cell_type": "markdown",
      "metadata": {
        "tags": [],
        "id": "atWCjIyl8mn3"
      },
      "source": [
        "### ✏️ Task A: Transitioning to Cross-Entropy Loss (20 pts)\n",
        "\n",
        "In Lab, we utilized the **Binary Cross-Entropy (BCE) Loss** for a binary classification task. The BCE loss is articulated as:\n",
        "\n",
        "$$ \\text{BCE}(y, \\hat{y}) = - \\left( y \\log(\\hat{y}) + (1 - y) \\log(1 - \\hat{y}) \\right) $$\n",
        "\n",
        "Here, $y$ is the true label (0 or 1), and $\\hat{y}$ denotes the predicted probability of $y=1$.\n",
        "\n",
        "In this task, we aim to explore the implementation of a model using **Cross-Entropy (CE) Loss**, which is a more common approach for classification tasks, especially when dealing with multiple classes. CE loss is expressed as:\n",
        "\n",
        "$$ \\text{CE}(y, \\hat{y}) = -\\sum_{i} y^{(i)} \\log(\\hat{y}^{(i)}) $$\n",
        "\n",
        "In this expression, $y$ represents the ground truth labels, $ \\hat{y} $ is the predictions from your model, and $i$ is the index of the class.\n",
        "\n",
        "\n",
        "#### 1. Modify the Loss (3 pts)\n",
        "Transition to using Cross-Entropy (CE) Loss for the classification task by utilizing PyTorch's built-in functionalities. You can refer to the [official PyTorch documentation](https://pytorch.org/docs/stable/nn.html) for detailed information and guidance to ensure the correct implementation of the CE loss."
      ]
    },
    {
      "cell_type": "code",
      "execution_count": null,
      "metadata": {
        "id": "tPVju8yl8mn4"
      },
      "outputs": [],
      "source": [
        "import torch.nn as nn\n",
        "\n",
        "# Replace '...' with the appropriate loss function in PyTorch\n",
        "loss = nn.CrossEntropyLoss()"
      ]
    },
    {
      "cell_type": "markdown",
      "metadata": {
        "id": "o6oVlcw08mn5"
      },
      "source": [
        "#### 2. Modify the Model Architecture (2 pts)\n",
        "To adapt the original code for use with Cross-Entropy (CE) loss, make necessary modifications to the model architecture. Ensure it is compatible and optimized for the application of CE loss. Consider the number of output nodes and the activation function used in the output layer for effective multi-class classification."
      ]
    },
    {
      "cell_type": "code",
      "execution_count": null,
      "metadata": {
        "id": "HsCsGQK38mn5"
      },
      "outputs": [],
      "source": [
        "# Modifying the architecture to be compatible with CE loss\n",
        "ce_model = nn.Sequential(\n",
        "    nn.Flatten(),\n",
        "    nn.Linear(256*256*1, 256),\n",
        "    nn.ReLU(),\n",
        "    nn.Linear(256, 1)\n",
        ").cuda()"
      ]
    },
    {
      "cell_type": "markdown",
      "metadata": {
        "tags": [],
        "id": "sH9ndd7G8mn5"
      },
      "source": [
        "#### 3. Reflection Questions (15 pts, 5 pts for each)\n",
        "Provide detailed answers to the questions below:\n",
        "\n",
        "**Q1. Loss Function Comparison:**  \n",
        "   What are the differences between Binary Cross-Entropy (BCE) loss and Cross-Entropy (CE) loss?\n",
        "\n",
        "**Q2. Model Architecture Modification:**  \n",
        "   What motivated the specific changes you made to the model architecture?\n",
        "\n",
        "**Q3. Adapting to CE Loss:**  \n",
        "   In the original code configured for BCE loss, two major adjustments are needed for adaptation to CE loss. Analyze and explain the necessity for these changes, referring to the code below.\n",
        "\n",
        "```python\n",
        "for images, labels in train_loader:\n",
        "    images = images.cuda()\n",
        "    images = images / 255.0\n",
        "    labels = labels.cuda()\n",
        "    optimizer.zero_grad()\n",
        "    outputs = model(images)\n",
        "\n",
        "    # Change #1: Adaptation to the labels for CE loss\n",
        "    labels = labels.long()  # Changed from labels.float().unsqueeze(1) for BCE loss\n",
        "\n",
        "    loss = criterion(outputs, labels)\n",
        "    loss.backward()\n",
        "    optimizer.step()\n",
        "    total_loss += loss.item()\n",
        "\n",
        "    # Change #2: Predictions for CE loss\n",
        "    train_predicted = outputs.argmax(-1)  # Changed from torch.sigmoid(outputs) > 0.5 for BCE loss\n",
        "    train_correct += (train_predicted == labels).sum().item()\n",
        "```"
      ]
    },
    {
      "cell_type": "markdown",
      "metadata": {
        "id": "kUC_-5-K8mn6"
      },
      "source": [
        "#### Put Your Response Here:\n",
        "\n",
        "##### 1. ...\n",
        "\n",
        "##### 2. ...\n",
        "\n",
        "##### 3. ..."
      ]
    },
    {
      "cell_type": "markdown",
      "metadata": {
        "id": "psa_Lyix8mn6"
      },
      "source": [
        "### ✏️ Task B: Creating an Evaluation Code (20 pts)\n",
        "\n",
        "Evaluate the performance of a pretrained deep learning model with a test dataset of chest X-ray images available in `test_normal.npy` and `test_pneumonia.npy` files. These files respectively contain 200 grayscale normal and pneumonia chest X-ray images, each of size 256×256. The objective is to calculate the model’s accuracy, defined as the percentage of images correctly classified. To accomplish this, you are tasked to write code that loads, processes, and evaluates the model on this specific dataset. Ensure each segment of code replacing the `...` placeholders is functional and aligns with the steps provided in the instructions.\n",
        "\n",
        "**Note: ⚠️ Ensure to upload your trained model's weights to your working environment if needed.**"
      ]
    },
    {
      "cell_type": "markdown",
      "metadata": {
        "id": "5La70xqV8mn6"
      },
      "source": [
        "### Step 0: Download test dataset"
      ]
    },
    {
      "cell_type": "code",
      "execution_count": null,
      "metadata": {
        "id": "EX39ytpB8mn6",
        "outputId": "e848f008-4c0e-4f17-ad28-26acfa28f491"
      },
      "outputs": [
        {
          "name": "stdout",
          "output_type": "stream",
          "text": [
            "test_normal (1).npy\n"
          ]
        }
      ],
      "source": [
        "# !wget https://raw.githubusercontent.com/TacoXDD/homeworks/master/dataset/test/test_normal.npy\n",
        "# !wget https://raw.githubusercontent.com/TacoXDD/homeworks/master/dataset/test/test_pneumonia.npy\n",
        "import wget\n",
        "test_abnormal = wget.download(\"https://raw.githubusercontent.com/TacoXDD/homeworks/master/dataset/test/test_normal.npy\")\n",
        "test_normal = wget.download(\"https://raw.githubusercontent.com/TacoXDD/homeworks/master/dataset/test/test_pneumonia.npy\")\n",
        "\n",
        "print(test_abnormal)"
      ]
    },
    {
      "cell_type": "markdown",
      "metadata": {
        "id": "MgVXafw78mn7"
      },
      "source": [
        "### Step 1: Prepare your test dataset"
      ]
    },
    {
      "cell_type": "code",
      "execution_count": null,
      "metadata": {
        "id": "88Wbjtel8mn7",
        "outputId": "3d0d27fb-796b-4aff-db8d-fd9778eea39b"
      },
      "outputs": [
        {
          "name": "stdout",
          "output_type": "stream",
          "text": [
            "Shape of test_abnormal: (200, 256, 256)\n",
            "Shape of test_normal: (200, 256, 256)\n",
            "Shape of x_test: (400, 256, 256)\n",
            "Shape of y_test: (400,)\n"
          ]
        }
      ],
      "source": [
        "import numpy as np\n",
        "\n",
        "test_abnormal = np.load('test_pneumonia.npy')\n",
        "test_normal = np.load('test_normal.npy')\n",
        "\n",
        "\n",
        "print(f'Shape of test_abnormal: {test_abnormal.shape}')\n",
        "print(f'Shape of test_normal: {test_normal.shape}')\n",
        "\n",
        "# For the data having presence of pneumonia assign 1, for the normal ones assign 0.\n",
        "test_abnormal_labels = np.ones((test_abnormal.shape[0],))\n",
        "test_normal_labels = np.zeros((test_normal.shape[0],))\n",
        "\n",
        "x_test = np.concatenate((test_abnormal, test_normal), axis=0)\n",
        "y_test = np.concatenate((test_abnormal_labels, test_normal_labels), axis=0)\n",
        "\n",
        "print(f'Shape of x_test: {x_test.shape}')\n",
        "print(f'Shape of y_test: {y_test.shape}')"
      ]
    },
    {
      "cell_type": "markdown",
      "metadata": {
        "id": "gEgP2QDn8mn8"
      },
      "source": [
        "### Step 2: Load Test Images into PyTorch DataLoader (5 pts)"
      ]
    },
    {
      "cell_type": "code",
      "execution_count": null,
      "metadata": {
        "id": "Qnp-C38J8mn8"
      },
      "outputs": [],
      "source": [
        "import torch\n",
        "from torch.utils.data import DataLoader, TensorDataset, random_split\n",
        "\n",
        "# Convert to PyTorch tensors\n",
        "x_test = torch.tensor(x_test)\n",
        "y_test = torch.tensor(y_test)\n",
        "\n",
        "# Combine the images and labels into a dataset\n",
        "test_dataset = TensorDataset(x_test, y_test)\n",
        "\n",
        "# Create a dataloader to load data in batches. Set batch size to 32.\n",
        "test_loader = DataLoader(test_dataset, batch_size=32)"
      ]
    },
    {
      "cell_type": "markdown",
      "metadata": {
        "id": "peyZoITS8mn8"
      },
      "source": [
        "### Step 3: Prepare Your Trained Model  (5 pts)\n",
        "- Define the architecture to match exactly with the trained model intended for inference. Ensure strict alignment to avoid errors during evaluation.\n",
        "- Load the weights from the trained model and set the model to evaluation mode"
      ]
    },
    {
      "cell_type": "code",
      "execution_count": null,
      "metadata": {
        "id": "R-fxWqTp8mn8",
        "outputId": "ff90845b-b85a-44c6-a212-2fc5ef9a2e83"
      },
      "outputs": [
        {
          "data": {
            "text/plain": [
              "Sequential(\n",
              "  (0): Flatten(start_dim=1, end_dim=-1)\n",
              "  (1): Linear(in_features=65536, out_features=64, bias=True)\n",
              "  (2): BatchNorm1d(64, eps=1e-05, momentum=0.1, affine=True, track_running_stats=True)\n",
              "  (3): ReLU()\n",
              "  (4): Dropout(p=0.5, inplace=False)\n",
              "  (5): Linear(in_features=64, out_features=64, bias=True)\n",
              "  (6): BatchNorm1d(64, eps=1e-05, momentum=0.1, affine=True, track_running_stats=True)\n",
              "  (7): ReLU()\n",
              "  (8): Dropout(p=0.5, inplace=False)\n",
              "  (9): Linear(in_features=64, out_features=64, bias=True)\n",
              "  (10): BatchNorm1d(64, eps=1e-05, momentum=0.1, affine=True, track_running_stats=True)\n",
              "  (11): ReLU()\n",
              "  (12): Dropout(p=0.5, inplace=False)\n",
              "  (13): Linear(in_features=64, out_features=1, bias=True)\n",
              ")"
            ]
          },
          "execution_count": 28,
          "metadata": {},
          "output_type": "execute_result"
        }
      ],
      "source": [
        "# Declare the model architecture\n",
        "model = nn.Sequential(\n",
        "    nn.Flatten(),\n",
        "\n",
        "    nn.Linear(256*256*1, 64),\n",
        "    nn.BatchNorm1d(64),\n",
        "    nn.ReLU(),\n",
        "    nn.Dropout(0.5),\n",
        "\n",
        "    nn.Linear(64, 64),\n",
        "    nn.BatchNorm1d(64),\n",
        "    nn.ReLU(),\n",
        "    nn.Dropout(0.5),\n",
        "\n",
        "    nn.Linear(64, 64),\n",
        "    nn.BatchNorm1d(64),\n",
        "    nn.ReLU(),\n",
        "    nn.Dropout(0.5),\n",
        "\n",
        "    nn.Linear(64, 1)\n",
        ").cuda()\n",
        "\n",
        "# Load the trained weights\n",
        "model.load_state_dict(torch.load('model_classification.pth'))\n",
        "\n",
        "# Set the model to evaluation mode\n",
        "model.eval()"
      ]
    },
    {
      "cell_type": "markdown",
      "metadata": {
        "id": "4H-_wjqd8mn9"
      },
      "source": [
        "### Step 4: Perform Inference and Calculate the Accuracy (10 pts)\n",
        "- Ensure the image values are processed in a manner consistent with the training phase.\n",
        "- Use the model that was trained with BCE loss to execute inference on the test dataset.\n",
        "- Note that inference should be performed in GPU."
      ]
    },
    {
      "cell_type": "code",
      "execution_count": null,
      "metadata": {
        "id": "W_LgbEei8mn9",
        "outputId": "edc3172b-a524-4f84-eed9-94abea126540"
      },
      "outputs": [
        {
          "name": "stdout",
          "output_type": "stream",
          "text": [
            "Test accuracy is 73.25%.\n"
          ]
        }
      ],
      "source": [
        "test_correct = 0\n",
        "test_total = 0\n",
        "\n",
        "with torch.no_grad():\n",
        "    for images, labels in test_loader:\n",
        "\n",
        "        images = images.cuda()\n",
        "        images = images / 255.\n",
        "\n",
        "        labels = labels.cuda()\n",
        "\n",
        "        outputs = model(images)\n",
        "\n",
        "        labels_float = labels.float().unsqueeze(1)  # Convert labels to float and match shape with outputs\n",
        "        predicted = torch.sigmoid(outputs) > 0.5\n",
        "\n",
        "        test_correct += (predicted.float() == labels_float).sum().item()\n",
        "        test_total += labels.size(0)\n",
        "accuracy = 100. * test_correct / test_total\n",
        "print(f'Test accuracy is {accuracy:.2f}%.')"
      ]
    }
  ],
  "metadata": {
    "accelerator": "GPU",
    "colab": {
      "gpuType": "T4",
      "provenance": [],
      "toc_visible": true
    },
    "kernelspec": {
      "display_name": "Python 3 (ipykernel)",
      "language": "python",
      "name": "python3"
    },
    "language_info": {
      "codemirror_mode": {
        "name": "ipython",
        "version": 3
      },
      "file_extension": ".py",
      "mimetype": "text/x-python",
      "name": "python",
      "nbconvert_exporter": "python",
      "pygments_lexer": "ipython3",
      "version": "3.9.12"
    }
  },
  "nbformat": 4,
  "nbformat_minor": 0
}